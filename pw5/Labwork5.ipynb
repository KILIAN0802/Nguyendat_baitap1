{
 "cells": [
  {
   "cell_type": "markdown",
   "metadata": {},
   "source": [
    "# Practical work 5: persistent info\n",
    "- Update your input functions\n",
    "  - Write student info to `students.txt` after finishing input\n",
    "  - Write course info to `courses.txt` after finishing input\n",
    "  - Write marks to `marks.txt` after finishing input\n",
    "- Before closing your program\n",
    "  - Select a compression method\n",
    "  - Compress all files aboves into students.dat\n",
    "- Upon starting your program,\n",
    "  - Check if `students.dat` exists\n",
    "  - If yes, decompress and load data from it\n",
    "- Push your work to corresponding forked [Github repository](https://github.com/quanganh2001/pp2022)"
   ]
  },
  {
   "cell_type": "code",
   "execution_count": 32,
   "metadata": {},
   "outputs": [],
   "source": [
    "import zipfile\n",
    "import sys\n",
    "import codecs"
   ]
  },
  {
   "cell_type": "code",
   "execution_count": 37,
   "metadata": {},
   "outputs": [],
   "source": [
    "class Input:\n",
    "  def __init__(self, stName=\"\", stId=\"\", stDob=\"\", courses=\"\"):\n",
    "    self.stName = stName\n",
    "    self.stId = stId\n",
    "    self.stDob = stDob\n",
    "    self.courses = courses\n",
    "    self.student_list = []\n",
    "  \n",
    "  def inputSt(self, name, stId, stDob, courses):\n",
    "    st = Input(name, stId, stDob, courses)\n",
    "    self.student_list.append(st)\n",
    "  \n",
    "  def compress(self, nameFile):\n",
    "    list_files = ['students.txt', 'courses.txt', 'marks.txt']\n",
    "\n",
    "    compression = zipfile.ZIP_DEFLATED\n",
    "    z = zipfile.ZipFile(nameFile, mode=\"w\")\n",
    "\n",
    "    for file in list_files:\n",
    "      z.write(file, file, compress_type=compression)\n",
    "    z.close()\n",
    "  \n",
    "  def decompress(self):\n",
    "    try:\n",
    "      with zipfile.ZipFile(\"students.dat\", \"r\") as zip_ref:\n",
    "        zip_ref.extractall(\"decompress\")\n",
    "    except Exception as e:\n",
    "      print(\"students.dat not found\")\n",
    "      print(\"error :\",e)\n",
    "  \n",
    "  def writeFile(self, st):\n",
    "    for i in st:\n",
    "      with open(\"students.txt\", \"a+\", encoding='utf-8') as f1:\n",
    "        f1.write(\"Name: \"+i.stName+'\\n')\n",
    "        f1.write(\"ID: \"+i.stId+'\\n')\n",
    "        f1.write(\"Date of birth: \"+i.stDob+'\\n')\n",
    "        f1.write(\"----------------------------\\n\")\n",
    "      \n",
    "      with open('courses.txt', 'a+', encoding='utf-8') as f2:\n",
    "        f2.write('Name: '+i.stName+'\\n')\n",
    "        for j in i.courses:\n",
    "          f2.write('Courses: '+j[0]+'\\n')\n",
    "          f2.write('-------------------\\n')\n",
    "      \n",
    "      with open('marks.txt', 'a+', encoding='utf-8') as f3:\n",
    "        f3.write('Name: '+i.stName+'\\n')\n",
    "        for j in i.courses:\n",
    "          f3.write(f'{j[0]}:'+j[1]+'\\n')\n",
    "          f3.write('------------------\\n')\n",
    "    f1.close()\n",
    "    f2.close()\n",
    "    f3.close()\n",
    "  \n",
    "  def deleteSt(self, name):\n",
    "    for i in range(len(self.student_list)):\n",
    "      if name == self.student_list[i].stName:\n",
    "        print(f'student {name} is deleted')\n",
    "        del self.student_list[i]"
   ]
  },
  {
   "cell_type": "code",
   "execution_count": 38,
   "metadata": {},
   "outputs": [],
   "source": [
    "class Output:\n",
    "  def __init__(self, student_list=''):\n",
    "    self.student_list = student_list\n",
    "  \n",
    "  def listSt(self, student_list):\n",
    "    for i in student_list:\n",
    "      print(f\"Name: {i.stName}\")\n",
    "      print(f\"Id: {i.stId}\")\n",
    "      print(f\"Date Of Birth: {i.stDob}\")\n",
    "      for j in range(len(i.courses)):\n",
    "        print(f\"Marks of {i.courses[j][0]}: \", i.courses[j][1])\n",
    "      print(\"*************************\")"
   ]
  },
  {
   "cell_type": "code",
   "execution_count": 40,
   "metadata": {},
   "outputs": [],
   "source": [
    "st = Input('' ,'', '' ,  0)\n",
    "st.inputSt('Nguyen Quang Anh', 'BA10-002', '27/10/2001', (('Operating System', '10.5'), ('French Language', '13.1'), ('Numerical Methods', '6.5')))\n",
    "st.inputSt('Nguyen Thi Khanh Huyen', 'BA10-025', '25/09/2001', (('Operating System', '14.0'), ('French Language', '16.5'), ('Numerical Methods', '8.0')))\n",
    "st.inputSt('Nguyen Van Tai', 'BA10-055', '21/04/2001', (('Operating System', '19.0'), ('French Language', '18.0'), ('Numerical Methods', '18.3')))"
   ]
  },
  {
   "cell_type": "code",
   "execution_count": 41,
   "metadata": {},
   "outputs": [],
   "source": [
    "st.writeFile(st.student_list)"
   ]
  },
  {
   "cell_type": "code",
   "execution_count": 42,
   "metadata": {},
   "outputs": [],
   "source": [
    "st.compress('students.dat')\n",
    "st.decompress()"
   ]
  },
  {
   "cell_type": "code",
   "execution_count": 43,
   "metadata": {},
   "outputs": [
    {
     "name": "stdout",
     "output_type": "stream",
     "text": [
      "Name: Nguyen Quang Anh\n",
      "Id: BA10-002\n",
      "Date Of Birth: 27/10/2001\n",
      "Marks of Operating System:  10.5\n",
      "Marks of French Language:  13.1\n",
      "Marks of Numerical Methods:  6.5\n",
      "*************************\n",
      "Name: Nguyen Thi Khanh Huyen\n",
      "Id: BA10-025\n",
      "Date Of Birth: 25/09/2001\n",
      "Marks of Operating System:  14.0\n",
      "Marks of French Language:  16.5\n",
      "Marks of Numerical Methods:  8.0\n",
      "*************************\n",
      "Name: Nguyen Van Tai\n",
      "Id: BA10-055\n",
      "Date Of Birth: 21/04/2001\n",
      "Marks of Operating System:  19.0\n",
      "Marks of French Language:  18.0\n",
      "Marks of Numerical Methods:  18.3\n",
      "*************************\n"
     ]
    }
   ],
   "source": [
    "display = Output()\n",
    "display.listSt(st.student_list)"
   ]
  }
 ],
 "metadata": {
  "interpreter": {
   "hash": "4e0b39fdc4f2df2992ef135d097972ec225e019845a073717c5b1bc8df292c8a"
  },
  "kernelspec": {
   "display_name": "Python 3.10.4 64-bit",
   "language": "python",
   "name": "python3"
  },
  "language_info": {
   "codemirror_mode": {
    "name": "ipython",
    "version": 3
   },
   "file_extension": ".py",
   "mimetype": "text/x-python",
   "name": "python",
   "nbconvert_exporter": "python",
   "pygments_lexer": "ipython3",
   "version": "3.10.4"
  },
  "orig_nbformat": 4
 },
 "nbformat": 4,
 "nbformat_minor": 2
}
