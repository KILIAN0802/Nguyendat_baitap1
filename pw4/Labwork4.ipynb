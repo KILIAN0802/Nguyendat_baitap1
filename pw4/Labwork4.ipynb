{
 "cells": [
  {
   "cell_type": "markdown",
   "metadata": {},
   "source": [
    "# Practical work 4: modularization\n",
    "- Split your program 3.student.mark.oop.math.py to modules and packages in a new `pw4` directory (both Jupyter Notebook and Python sources code)\n",
    "   - `input.py`: module for input\n",
    "   - `output.py`: module for `curses` output\n",
    "   - `domains`: package for classes\n",
    "   - `main.py`: main script for coordination\n",
    "- Push your work to corresponding forked [Github repository](https://github.com/quanganh2001/pp2022)"
   ]
  },
  {
   "cell_type": "markdown",
   "metadata": {},
   "source": [
    "## module for input"
   ]
  },
  {
   "cell_type": "code",
   "execution_count": 1,
   "metadata": {},
   "outputs": [],
   "source": [
    "class Input:\n",
    "  def __init__(self, stName=\"\", stId=\"\", stDob=\"\", courses=\"\"):\n",
    "    self.stName   = stName\n",
    "    self.stId    = stId\n",
    "    self.stDob    = stDob\n",
    "    self.courses = courses\n",
    "    self.student_list = []\n",
    "\n",
    "  def inputSt(self, name, stId, stDob, courses):\n",
    "    st = Input(name, stId, stDob, courses)\n",
    "    self.student_list.append(st)\n",
    "\n",
    "  def deleteSt(self, name):\n",
    "    for i in range(len(self.student_list)):\n",
    "      if name == self.student_list[i].stName:\n",
    "        print(f'student {name} is deleted')\n",
    "        del self.student_list[i]"
   ]
  },
  {
   "cell_type": "markdown",
   "metadata": {},
   "source": [
    "##  module for curses output"
   ]
  },
  {
   "cell_type": "code",
   "execution_count": 2,
   "metadata": {},
   "outputs": [],
   "source": [
    "class Output:\n",
    "  def __init__(self, student_list=''):\n",
    "    self.student_list = student_list\n",
    "\n",
    "  def listSt(self, student_list):\n",
    "    for i in student_list:\n",
    "      print(f\"Name: {i.stName}\")\n",
    "      print(f\"Id: {i.stId}\")\n",
    "      print(f\"Date Of Birth: {i.stDob}\")\n",
    "      for j in range(len(i.courses)):\n",
    "        print(f\"Marks of {i.courses[j][0]} :\", i.courses[j][1])\n",
    "      print(\"************************************\")"
   ]
  },
  {
   "cell_type": "markdown",
   "metadata": {},
   "source": [
    "## package for classes"
   ]
  },
  {
   "cell_type": "code",
   "execution_count": 3,
   "metadata": {},
   "outputs": [],
   "source": [
    "class domain:\n",
    "  def __init__(self):\n",
    "      pass\n",
    "  def execute(self):\n",
    "    st = Input('' ,'', '' ,  0)\n",
    "    st.inputSt('Nguyễn Quang Anh', 'BA10-002', '2001', (('Advanced Python Programming ','15'), ('French ','14'), ('Singal ','12')))\n",
    "    st.inputSt('Kim Nhật Thành', 'BA10-065', '2001', (('Advanced Python Programming ','11'), ('French ','16'), ('Singal ','8.5')))\n",
    "    st.inputSt('Nguyễn Thị Khánh Huyền', 'BA10-048', '2001', (('Advanced Python Programming ','10'), ('French ','14.75'), ('Singal ','12.5')))\n",
    "\n",
    "    display = Output(None)\n",
    "    display.listSt(st.student_list)"
   ]
  },
  {
   "cell_type": "markdown",
   "metadata": {},
   "source": [
    "## main script for coordination"
   ]
  },
  {
   "cell_type": "code",
   "execution_count": 4,
   "metadata": {},
   "outputs": [
    {
     "name": "stdout",
     "output_type": "stream",
     "text": [
      "Name: Nguyễn Quang Anh\n",
      "Id: BA10-002\n",
      "Date Of Birth: 2001\n",
      "Marks of Advanced Python Programming  : 15\n",
      "Marks of French  : 14\n",
      "Marks of Singal  : 12\n",
      "************************************\n",
      "Name: Kim Nhật Thành\n",
      "Id: BA10-065\n",
      "Date Of Birth: 2001\n",
      "Marks of Advanced Python Programming  : 11\n",
      "Marks of French  : 16\n",
      "Marks of Singal  : 8.5\n",
      "************************************\n",
      "Name: Nguyễn Thị Khánh Huyền\n",
      "Id: BA10-048\n",
      "Date Of Birth: 2001\n",
      "Marks of Advanced Python Programming  : 10\n",
      "Marks of French  : 14.75\n",
      "Marks of Singal  : 12.5\n",
      "************************************\n"
     ]
    }
   ],
   "source": [
    "if __name__ == \"__main__\":\n",
    "  main = domain()\n",
    "  main.execute()"
   ]
  }
 ],
 "metadata": {
  "interpreter": {
   "hash": "4e0b39fdc4f2df2992ef135d097972ec225e019845a073717c5b1bc8df292c8a"
  },
  "kernelspec": {
   "display_name": "Python 3.10.4 64-bit",
   "language": "python",
   "name": "python3"
  },
  "language_info": {
   "codemirror_mode": {
    "name": "ipython",
    "version": 3
   },
   "file_extension": ".py",
   "mimetype": "text/x-python",
   "name": "python",
   "nbconvert_exporter": "python",
   "pygments_lexer": "ipython3",
   "version": "3.10.4"
  },
  "orig_nbformat": 4
 },
 "nbformat": 4,
 "nbformat_minor": 2
}
