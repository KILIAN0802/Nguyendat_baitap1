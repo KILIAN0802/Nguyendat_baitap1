{
 "cells": [
  {
   "cell_type": "markdown",
   "id": "70c4a310",
   "metadata": {},
   "source": [
    "# Practical work 3: some maths and decorations\n",
    "- Copy your practical work 2 to 3.student.mark.oop.math.py\n",
    "- Use `math` module to round-down student scores to 1-digitdecimal upon input, `floor()`\n",
    "- Use `numpy` module and its `array` to\n",
    "    - Add function to calculate average GPA for a given student\n",
    "        - Weighted sum of credits and marks\n",
    "    - Sort student list by GPA descending\n",
    "- Decorate your UI with curses module\n",
    "- Push your work to corresponding forked [Github repository](https://github.com/quanganh2001/pp2022)."
   ]
  },
  {
   "cell_type": "code",
   "execution_count": 1,
   "id": "911e1771",
   "metadata": {},
   "outputs": [],
   "source": [
    "import numpy as np\n",
    "import math"
   ]
  },
  {
   "cell_type": "code",
   "execution_count": 2,
   "id": "d01320a3",
   "metadata": {},
   "outputs": [],
   "source": [
    "student_list = []\n",
    "\n",
    "class student:\n",
    "  def __init__(self, stName=\"\", stId=\"\", stDob=\"\", courses=\"\"):\n",
    "    self.stName = stName\n",
    "    self.stId = stId\n",
    "    self.stDob = stDob\n",
    "    self.courses = courses\n",
    "\n",
    "  def inputSt(self, name, stId, stDob, courses):\n",
    "    st = student(name, stId, stDob, courses)\n",
    "    student_list.append(st)\n",
    "  \n",
    "  def listSt(self, st):\n",
    "    print(f'Name: {st.stName}')\n",
    "    print(f'Id: {st.stId}')\n",
    "    print(f'Date of Birth: {st.stDob}')\n",
    "    for u, v in st.courses.items():\n",
    "      print(f'Mark for {u}: {v}')\n",
    "    print('*****************\\n')\n",
    "  \n",
    "  def listCourse(self, course_name):\n",
    "    anotherStList = []\n",
    "\n",
    "    for i in range(len(student_list)):\n",
    "      for u, v in student_list[i].courses_items():\n",
    "        if course_name == u:\n",
    "          anotherStList.append(student_list[i].stName)\n",
    "    \n",
    "    print(f'number of student in {course_name}: {len(anotherStList)}')\n",
    "    print('Student list: ')\n",
    "    for i in anotherStList:\n",
    "      print(f'             - {i}')\n",
    "  \n",
    "  def deleteSt(self, name):\n",
    "    for i in range(len(student_list)):\n",
    "      if name == student_list[i].stName:\n",
    "        print(f'student {name} is deleted!')\n",
    "        del student_list[i]"
   ]
  },
  {
   "cell_type": "code",
   "execution_count": 3,
   "id": "05b0f349",
   "metadata": {},
   "outputs": [],
   "source": [
    "course_list = []\n",
    "class course:\n",
    "  def __init__(self, courseId=\"\", courseName=\"\"):\n",
    "    self.courseId = courseId\n",
    "    self.courseName = courseName\n",
    "  \n",
    "  def inputCourse(self, courseId, courseName):\n",
    "    c = course(courseId, courseName)\n",
    "    course_list.append(c)\n",
    "  \n",
    "  def courseInfo(self, c):\n",
    "    print(f\"Course Name: {c.courseName}\")\n",
    "    print(f\"Course Id: {c.courseId}\")\n",
    "  \n",
    "  def mark(self, name, courseName, mark):\n",
    "    for i in range(len(student_list)):\n",
    "      if name in student_list[i].stName:\n",
    "        student_list[i].courses[courseName] = math.floor(mark*10)/10"
   ]
  },
  {
   "cell_type": "code",
   "execution_count": 4,
   "id": "1759803f",
   "metadata": {},
   "outputs": [],
   "source": [
    "class GPA:\n",
    "  def __init__(self, name=''):\n",
    "    self.name = name\n",
    "  \n",
    "  def calcGPA(self, name, credit):\n",
    "    ls = []\n",
    "    for i in range(len(student_list)):\n",
    "      if name == student_list[i].stName:\n",
    "        print(student_list[i].courses)\n",
    "        ls.append(student_list[i].courses)\n",
    "        grade = np.array([list(d.values()) for d in ls])\n",
    "        credit = np.array(credit)\n",
    "        gpa = grade.dot(credit)/sum(credit)\n",
    "        return tuple((name, gpa))\n",
    "  \n",
    "  def sort(self):\n",
    "    gpa_list = []\n",
    "    for i in range(len(student_list)):\n",
    "      gpa_list.append(self.calcGPA(student_list[i].stName, [3, 5]))\n",
    "    sorted_list = sorted(gpa_list, key=lambda i: i[1])\n",
    "    for head,tail in enumerate(sorted_list):\n",
    "      print(f\"Ranking {head+1} is {tail[0]} with {tail[1]} points\")"
   ]
  },
  {
   "cell_type": "code",
   "execution_count": 5,
   "id": "730d219d",
   "metadata": {},
   "outputs": [
    {
     "name": "stdout",
     "output_type": "stream",
     "text": [
      "Name: Nguyễn Quang Anh\n",
      "Id: BA10-002\n",
      "Date of Birth: 27 Oct 2001\n",
      "Mark for French Language: 11.5\n",
      "Mark for Algorithm: 14.5\n",
      "*****************\n",
      "\n",
      "Name: Kim Nhật Thành\n",
      "Id: BA10-058\n",
      "Date of Birth: 11 July 2001\n",
      "Mark for French Language: 8.5\n",
      "Mark for Algorithm: 7.5\n",
      "*****************\n",
      "\n",
      "Name: Nguyễn Thị Khánh Huyền\n",
      "Id: BA10-025\n",
      "Date of Birth: 24 May 2001\n",
      "Mark for French Language: 16.7\n",
      "Mark for Algorithm: 19.0\n",
      "*****************\n",
      "\n"
     ]
    }
   ],
   "source": [
    "st = student()\n",
    "st.inputSt('Nguyễn Quang Anh', 'BA10-002', '27 Oct 2001', {})\n",
    "st.inputSt('Kim Nhật Thành', 'BA10-058', '11 July 2001', {})\n",
    "st.inputSt('Nguyễn Thị Khánh Huyền', 'BA10-025', '24 May 2001', {})\n",
    "\n",
    "m = course('','')\n",
    "m.inputCourse(0, 'French Language')\n",
    "m.inputCourse(1, 'Algorithm')\n",
    "\n",
    "# French Language marks\n",
    "m.mark('Nguyễn Quang Anh', 'French Language', 11.5)\n",
    "m.mark('Kim Nhật Thành', 'French Language', 8.5)\n",
    "m.mark('Nguyễn Thị Khánh Huyền', 'French Language', 16.75)\n",
    "\n",
    "# Algorithm and Data Structures marks\n",
    "m.mark('Nguyễn Quang Anh', 'Algorithm', 14.5)\n",
    "m.mark('Kim Nhật Thành', 'Algorithm', 7.5)\n",
    "m.mark('Nguyễn Thị Khánh Huyền', 'Algorithm', 19)\n",
    "\n",
    "for i in range(len(student_list)):\n",
    "  st.listSt(student_list[i])"
   ]
  },
  {
   "cell_type": "code",
   "execution_count": 6,
   "id": "47506835",
   "metadata": {},
   "outputs": [
    {
     "name": "stdout",
     "output_type": "stream",
     "text": [
      "Course Name: French Language\n",
      "Course Id: 0\n",
      "Course Name: Algorithm\n",
      "Course Id: 1\n"
     ]
    }
   ],
   "source": [
    "for i in range(len(course_list)):\n",
    "  m.courseInfo(course_list[i])"
   ]
  },
  {
   "cell_type": "code",
   "execution_count": 7,
   "id": "ae1bcd60",
   "metadata": {},
   "outputs": [
    {
     "name": "stdout",
     "output_type": "stream",
     "text": [
      "{'French Language': 11.5, 'Algorithm': 14.5}\n",
      "{'French Language': 8.5, 'Algorithm': 7.5}\n",
      "{'French Language': 16.7, 'Algorithm': 19.0}\n",
      "Ranking 1 is Kim Nhật Thành with [7.875] points\n",
      "Ranking 2 is Nguyễn Quang Anh with [13.375] points\n",
      "Ranking 3 is Nguyễn Thị Khánh Huyền with [18.1375] points\n"
     ]
    }
   ],
   "source": [
    "gpa = GPA()\n",
    "gpa.sort()"
   ]
  }
 ],
 "metadata": {
  "kernelspec": {
   "display_name": "Python 3 (ipykernel)",
   "language": "python",
   "name": "python3"
  },
  "language_info": {
   "codemirror_mode": {
    "name": "ipython",
    "version": 3
   },
   "file_extension": ".py",
   "mimetype": "text/x-python",
   "name": "python",
   "nbconvert_exporter": "python",
   "pygments_lexer": "ipython3",
   "version": "3.8.10"
  }
 },
 "nbformat": 4,
 "nbformat_minor": 5
}
