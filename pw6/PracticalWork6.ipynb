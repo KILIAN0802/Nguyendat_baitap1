{
 "cells": [
  {
   "cell_type": "markdown",
   "metadata": {},
   "source": [
    "# Practical work 6: pickled management system"
   ]
  },
  {
   "cell_type": "code",
   "execution_count": 1,
   "metadata": {},
   "outputs": [],
   "source": [
    "import pickle"
   ]
  },
  {
   "cell_type": "code",
   "execution_count": 2,
   "metadata": {},
   "outputs": [],
   "source": [
    "class Input:\n",
    "    def __init__(self, stName=\"\", stId=\"\", stDob=\"\", courses=\"\"):\n",
    "        self.stName = stName\n",
    "        self.stId = stId\n",
    "        self.stDob = stDob\n",
    "        self.courses = courses\n",
    "        self.student_list = []\n",
    "    \n",
    "    def inputSt(self, name, stId, stDob, courses):\n",
    "        st = Input(name, stId, stDob, courses)\n",
    "        self.student_list.append(st)\n",
    "    \n",
    "    def pickleCompress(self, nameFile):\n",
    "        list_files = ['students.txt','courses.txt','marks.txt']\n",
    "\n",
    "        pickle_file = open(nameFile, 'ab')\n",
    "        pickle.dump(list_files, pickle_file)\n",
    "    \n",
    "    def pickleDecompress(self):\n",
    "        with open('students.dat', 'rb') as f:\n",
    "            data = pickle.load(f)\n",
    "            print(data)\n",
    "    \n",
    "    def writeFile(self, st):\n",
    "        for i in st:\n",
    "            with open(\"students.txt\", \"a+\") as f1:\n",
    "                f1.write(\"Name: \" +i.stName+'\\n')\n",
    "                f1.write(\"ID: \" +i.stId+'\\n')\n",
    "                f1.write(\"Date of birth: \" +i.stDob+'\\n')\n",
    "\n",
    "            with open(\"courses.txt\", \"a+\") as f2:\n",
    "                f2.write(\"Name: \" +i.stName+'\\n')\n",
    "                for j in i.courses:\n",
    "                    f2.write(\"Course: \"+j[0]+'\\n')\n",
    "            \n",
    "            with open(\"marks.txt\", \"a+\") as f3:\n",
    "                f3.write(\"Name: \"+i.stName+'\\n')\n",
    "                for j in i.courses:\n",
    "                    f3.write(f'{j[0]}:'+j[1]+'\\n')\n",
    "        f1.close()\n",
    "        f2.close()\n",
    "        f3.close()\n",
    "    \n",
    "    def deleteSt(self, name):\n",
    "        for i in range(len(self.student_list)):\n",
    "            if name == self.student_list[i].stName:\n",
    "                print(f'student {name} is deleted')\n",
    "                del self.student_list[i]"
   ]
  },
  {
   "cell_type": "code",
   "execution_count": 3,
   "metadata": {},
   "outputs": [],
   "source": [
    "class Output:\n",
    "  def __init__(self, student_list=''):\n",
    "    self.student_list = student_list\n",
    "  \n",
    "  def listSt(self, student_list):\n",
    "    for i in student_list:\n",
    "      print(f\"Name: {i.stName}\")\n",
    "      print(f\"Id: {i.stId}\")\n",
    "      print(f\"Date Of Birth: {i.stDob}\")\n",
    "      for j in range(len(i.courses)):\n",
    "        print(f\"Marks of {i.courses[j][0]}: \", i.courses[j][1])\n",
    "      print(\"*************************\")"
   ]
  },
  {
   "cell_type": "code",
   "execution_count": 4,
   "metadata": {},
   "outputs": [],
   "source": [
    "st = Input('' ,'', '' ,  0)\n",
    "st.inputSt('Nguyen Quang Anh', 'BA10-002', '27/10/2001', (('Operating System', '10.5'), ('French Language', '13.1'), ('Numerical Methods', '6.5')))\n",
    "st.inputSt('Nguyen Thi Khanh Huyen', 'BA10-025', '25/09/2001', (('Operating System', '14.0'), ('French Language', '16.5'), ('Numerical Methods', '8.0')))\n",
    "st.inputSt('Nguyen Van Tai', 'BA10-055', '21/04/2001', (('Operating System', '19.0'), ('French Language', '18.0'), ('Numerical Methods', '18.3')))"
   ]
  },
  {
   "cell_type": "code",
   "execution_count": 5,
   "metadata": {},
   "outputs": [
    {
     "name": "stdout",
     "output_type": "stream",
     "text": [
      "['students.txt', 'courses.txt', 'marks.txt']\n"
     ]
    }
   ],
   "source": [
    "st.pickleCompress('students.dat')\n",
    "st.pickleDecompress()"
   ]
  }
 ],
 "metadata": {
  "interpreter": {
   "hash": "4e0b39fdc4f2df2992ef135d097972ec225e019845a073717c5b1bc8df292c8a"
  },
  "kernelspec": {
   "display_name": "Python 3.10.4 64-bit",
   "language": "python",
   "name": "python3"
  },
  "language_info": {
   "codemirror_mode": {
    "name": "ipython",
    "version": 3
   },
   "file_extension": ".py",
   "mimetype": "text/x-python",
   "name": "python",
   "nbconvert_exporter": "python",
   "pygments_lexer": "ipython3",
   "version": "3.10.4"
  },
  "orig_nbformat": 4
 },
 "nbformat": 4,
 "nbformat_minor": 2
}
