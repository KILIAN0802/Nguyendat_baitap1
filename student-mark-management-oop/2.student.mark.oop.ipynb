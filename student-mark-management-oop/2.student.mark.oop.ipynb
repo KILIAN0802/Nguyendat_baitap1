{
 "cells": [
  {
   "cell_type": "markdown",
   "metadata": {},
   "source": [
    "Practical work 2: OOP’ed student mark management\n",
    "- Copy your practical work 1 to 2.student.mark.oop.py\n",
    "- Make it OOP’ed\n",
    "- Same functions\n",
    "  - Proper attributes and methods\n",
    "  - Proper encapsulation\n",
    "  - Proper polymorphism\n",
    "    - e.g. ```.input(), .list()``` methods\n",
    "- Push your work to corresponding forked Github repository"
   ]
  },
  {
   "cell_type": "code",
   "execution_count": 7,
   "metadata": {},
   "outputs": [],
   "source": [
    "student_list = []\n",
    "\n",
    "class student:\n",
    "    def __init__(self, stName=\"\", stId=\"\", stDob=\"\", courses=\"\"):\n",
    "        self.stName   = stName\n",
    "        self.stId    = stId\n",
    "        self.stDob    = stDob\n",
    "        self.courses = courses\n",
    "    \n",
    "    def inputSt(self, name, stId, stDob, courses):\n",
    "        st = student(name, stId, stDob, courses)\n",
    "        student_list.append(st)\n",
    "    \n",
    "    def listSt(self, st):\n",
    "        print(f'Name: {st.stName}')\n",
    "        print(f'Id: {st.stId}')\n",
    "        print(f'Date Of Bird: {st.stDob}')\n",
    "        for u, v in st.courses.items():\n",
    "            print(f'Mark for {u}: {v}')\n",
    "        print('*****************\\n')\n",
    "    \n",
    "    def listCourse(self, course_name):\n",
    "        \n",
    "        anotherStList = []\n",
    "        \n",
    "        for i in range(len(student_list)):\n",
    "            for u, v in student_list[i].courses.items():\n",
    "                if course_name == u:\n",
    "                    anotherStList.append(student_list[i].stName)\n",
    "        \n",
    "        print(f'number of student in {course_name}: {len(anotherStList)}')\n",
    "        print('Student list: ')\n",
    "        for i in anotherStList:\n",
    "            print(f'             - {i}')\n",
    "            \n",
    "    def deleteSt(self, name):\n",
    "        for i in range(len(student_list)):\n",
    "            if name == student_list[i].stName:\n",
    "                print(f'student {name} is deleted')\n",
    "                del student_list[i]"
   ]
  },
  {
   "cell_type": "code",
   "execution_count": 8,
   "metadata": {},
   "outputs": [],
   "source": [
    "course_list = []\n",
    "class course:\n",
    "    def __init__(self, courseId=\"\", courseName=\"\"):\n",
    "        self.courseId = courseId\n",
    "        self.courseName = courseName\n",
    "    \n",
    "    def inputCourse(self, courseId, courseName):\n",
    "        c = course(courseId, courseName)\n",
    "        course_list.append(c)\n",
    "    \n",
    "    def mark(self, name, courseName, mark):\n",
    "        for i in range(len(student_list)):\n",
    "            if name in student_list[i].stName:\n",
    "                student_list[i].courses[courseName] = mark"
   ]
  },
  {
   "cell_type": "code",
   "execution_count": 10,
   "metadata": {},
   "outputs": [],
   "source": [
    "st = student()\n",
    "st.inputSt('Nguyen Quang Anh', 'BA10-002', '27 October 2001', {})\n",
    "st.inputSt('Tran Ngoc Bach', 'BA10-046', '24 May 2001', {})\n",
    "st.inputSt('Kieu Khanh Huyen', 'BA10-064', '25 December 2001', {})\n",
    "m = course('','')\n",
    "m.inputCourse(0, 'French Language')"
   ]
  },
  {
   "cell_type": "code",
   "execution_count": 11,
   "metadata": {},
   "outputs": [],
   "source": [
    "m.mark('Nguyen Quang Anh', 'French Language', '12.5')\n",
    "m.mark('Tran Ngoc Bach', 'French Language', '11')\n",
    "m.mark('Kieu Khanh Huyen', 'French Language', '18.5')"
   ]
  },
  {
   "cell_type": "code",
   "execution_count": 12,
   "metadata": {},
   "outputs": [
    {
     "name": "stdout",
     "output_type": "stream",
     "text": [
      "Name: Nguyen Quang Anh\n",
      "Id: BA10-002\n",
      "Date Of Bird: 27 October 2001\n",
      "Mark for French Language: 12.5\n",
      "*****************\n",
      "\n",
      "Name: Tran Ngoc Bach\n",
      "Id: BA10-046\n",
      "Date Of Bird: 24 May 2001\n",
      "Mark for French Language: 11\n",
      "*****************\n",
      "\n",
      "Name: Kieu Khanh Huyen\n",
      "Id: BA10-064\n",
      "Date Of Bird: 25 December 2001\n",
      "Mark for French Language: 18.5\n",
      "*****************\n",
      "\n"
     ]
    }
   ],
   "source": [
    "for i in range(len(student_list)):\n",
    "    st.listSt(student_list[i])"
   ]
  },
  {
   "cell_type": "code",
   "execution_count": 13,
   "metadata": {},
   "outputs": [
    {
     "name": "stdout",
     "output_type": "stream",
     "text": [
      "number of student in French Language: 3\n",
      "Student list: \n",
      "             - Nguyen Quang Anh\n",
      "             - Tran Ngoc Bach\n",
      "             - Kieu Khanh Huyen\n"
     ]
    }
   ],
   "source": [
    "st.listCourse('French Language')"
   ]
  }
 ],
 "metadata": {
  "interpreter": {
   "hash": "004de6046f1b3d314f33fdb43a2dc798b2646e5600efd8df5066c8b63a00ff6d"
  },
  "kernelspec": {
   "display_name": "Python 3.8.10 64-bit",
   "language": "python",
   "name": "python3"
  },
  "language_info": {
   "codemirror_mode": {
    "name": "ipython",
    "version": 3
   },
   "file_extension": ".py",
   "mimetype": "text/x-python",
   "name": "python",
   "nbconvert_exporter": "python",
   "pygments_lexer": "ipython3",
   "version": "3.8.10"
  },
  "orig_nbformat": 4
 },
 "nbformat": 4,
 "nbformat_minor": 2
}
