{
 "cells": [
  {
   "cell_type": "markdown",
   "metadata": {},
   "source": [
    "# Practical work 7: Python shell\n",
    "- Create a new python program, name it `7.shell.py`\n",
    "- Make a shell\n",
    "  - User inputs command\n",
    "  - Shell executes the command, print output\n",
    "  - Support IO redirection\n",
    "    - input from file to process\n",
    "    - output from process to file\n",
    "    - e.g. input from one process being output of another\n"
   ]
  },
  {
   "cell_type": "code",
   "execution_count": 1,
   "metadata": {},
   "outputs": [
    {
     "name": "stdout",
     "output_type": "stream",
     "text": [
      "Type exit to get out of the terminal\n"
     ]
    }
   ],
   "source": [
    "import os\n",
    "\n",
    "if __name__ == '__main__':\n",
    "    # home_dir = os.system(\"cd ~\")\n",
    "    # os.chdir('/home')\n",
    "    # print(home_dir)\n",
    "    exit = True\n",
    "    os.system('echo Type exit to get out of the terminal')\n",
    "    while exit:\n",
    "        # User inputs command\n",
    "        command = input(\">>> \")\n",
    "        # Shell executes the command, print output\n",
    "        if command == \"exit\":\n",
    "            exit = False\n",
    "        else:\n",
    "            os.system(command)"
   ]
  }
 ],
 "metadata": {
  "interpreter": {
   "hash": "916dbcbb3f70747c44a77c7bcd40155683ae19c65e1c03b4aa3499c5328201f1"
  },
  "kernelspec": {
   "display_name": "Python 3.8.10 64-bit",
   "language": "python",
   "name": "python3"
  },
  "language_info": {
   "codemirror_mode": {
    "name": "ipython",
    "version": 3
   },
   "file_extension": ".py",
   "mimetype": "text/x-python",
   "name": "python",
   "nbconvert_exporter": "python",
   "pygments_lexer": "ipython3",
   "version": "3.8.10"
  },
  "orig_nbformat": 4
 },
 "nbformat": 4,
 "nbformat_minor": 2
}
